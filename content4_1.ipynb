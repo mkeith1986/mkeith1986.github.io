{
 "cells": [
  {
   "cell_type": "code",
   "execution_count": 1,
   "id": "b60dfe09",
   "metadata": {
    "tags": [
     "hide_cell"
    ]
   },
   "outputs": [
    {
     "data": {
      "text/html": [
       "<style>table {align:left;display:block} </style>"
      ],
      "text/plain": [
       "<IPython.core.display.HTML object>"
      ]
     },
     "execution_count": 1,
     "metadata": {},
     "output_type": "execute_result"
    }
   ],
   "source": [
    "from IPython.core.display import HTML\n",
    "table_css = 'table {align:left;display:block} '\n",
    "HTML('<style>{}</style>'.format(table_css))"
   ]
  },
  {
   "cell_type": "code",
   "execution_count": 2,
   "id": "7baabf30",
   "metadata": {
    "tags": [
     "hide_cell"
    ]
   },
   "outputs": [
    {
     "data": {
      "text/html": [
       "\n",
       "<style>\n",
       ".bashcommand {\n",
       "\tfont-family: Courier;\n",
       "\tfont-size: 12px;\n",
       "}\n",
       "</style>\n"
      ],
      "text/plain": [
       "<IPython.core.display.HTML object>"
      ]
     },
     "execution_count": 2,
     "metadata": {},
     "output_type": "execute_result"
    }
   ],
   "source": [
    "from IPython.core.display import HTML\n",
    "HTML(\"\"\"\n",
    "<style>\n",
    ".bashcommand {\n",
    "\tfont-family: Courier;\n",
    "\tfont-size: 12px;\n",
    "}\n",
    "</style>\n",
    "\"\"\")"
   ]
  },
  {
   "cell_type": "markdown",
   "id": "85760885",
   "metadata": {},
   "source": [
    "<a id='top'></a>\n",
    "# 4. Arithmetic calculations\n",
    "\n",
    "## 4.1. Integer calculations\n",
    "\n",
    "In order to compute arithmetic calculations with integers you can use one of the following syntaxes:\n",
    "\n",
    "<table>\n",
    "    <tr>\n",
    "        <th>Syntax</th>\n",
    "\t\t<th>Usage</th>\n",
    "    </tr>\n",
    "\t\t\t\t\t\t\n",
    "    <tr>\n",
    "        <td><font class=\"bashcommand\"> </font></td>\n",
    "        <td></td>\n",
    "    </tr>\n",
    "\t\t\t\t\t\t\n",
    "    <tr>\n",
    "        <td><font class=\"bashcommand\"> </font></td>\n",
    "        <td></td>\n",
    "    </tr>\n",
    "\t\t\t\t\t\t\n",
    "    <tr>\n",
    "        <td><font class=\"bashcommand\"> </font></td>\n",
    "        <td></td>\n",
    "    </tr>\n",
    "\t\t\t\t\t\t\n",
    "    <tr>\n",
    "        <td><font class=\"bashcommand\"> </font></td>\n",
    "        <td></td>\n",
    "    </tr>\n",
    "\t\t\t\t\t\t\n",
    "    <tr>\n",
    "        <td><font class=\"bashcommand\"> </font></td>\n",
    "        <td></td>\n",
    "    </tr>\n",
    "\t\t\t\t\t\t\n",
    "    <tr>\n",
    "        <td><font class=\"bashcommand\"> </font></td>\n",
    "        <td></td>\n",
    "    </tr>\n",
    "\t\t\t\t\t\t\n",
    "    <tr>\n",
    "        <td><font class=\"bashcommand\"> </font></td>\n",
    "        <td></td>\n",
    "    </tr>\n",
    "\t\t\t\t\t\t\n",
    "    <tr>\n",
    "        <td><font class=\"bashcommand\"> </font></td>\n",
    "        <td></td>\n",
    "    </tr>\n",
    "</table>\n",
    "[Go to top](#top)"
   ]
  },
  {
   "cell_type": "markdown",
   "id": "a3ba6db5",
   "metadata": {},
   "source": [
    "#### Examples: &dollar;(( OPERATION ))\n",
    "[Go to top](#top)"
   ]
  },
  {
   "cell_type": "markdown",
   "id": "ce602ce3",
   "metadata": {},
   "source": [
    "#### Examples: ((++NUM))\n",
    "[Go to top](#top)"
   ]
  },
  {
   "cell_type": "markdown",
   "id": "f3cd25f3",
   "metadata": {},
   "source": [
    "#### Examples: ((NUM++))\n",
    "[Go to top](#top)"
   ]
  },
  {
   "cell_type": "markdown",
   "id": "70a6bad7",
   "metadata": {},
   "source": [
    "#### Examples: ((--NUM))\n",
    "[Go to top](#top)"
   ]
  },
  {
   "cell_type": "markdown",
   "id": "631acae1",
   "metadata": {},
   "source": [
    "#### Examples: ((NUM--))\n",
    "[Go to top](#top)"
   ]
  },
  {
   "cell_type": "markdown",
   "id": "4cee1f1f",
   "metadata": {},
   "source": [
    "#### Examples: ((VAR+=NUM))\n",
    "[Go to top](#top)"
   ]
  },
  {
   "cell_type": "markdown",
   "id": "4668d5d7",
   "metadata": {},
   "source": [
    "#### Examples: ((VAR-=NUM))\n",
    "[Go to top](#top)"
   ]
  },
  {
   "cell_type": "markdown",
   "id": "1c5088c2",
   "metadata": {},
   "source": [
    "#### Examples: (( &dollar;i % 2 ))\n",
    "[Go to top](#top)"
   ]
  }
 ],
 "metadata": {
  "celltoolbar": "Tags",
  "kernelspec": {
   "display_name": "Python 3 (ipykernel)",
   "language": "python",
   "name": "python3"
  },
  "language_info": {
   "codemirror_mode": {
    "name": "ipython",
    "version": 3
   },
   "file_extension": ".py",
   "mimetype": "text/x-python",
   "name": "python",
   "nbconvert_exporter": "python",
   "pygments_lexer": "ipython3",
   "version": "3.8.3"
  }
 },
 "nbformat": 4,
 "nbformat_minor": 5
}

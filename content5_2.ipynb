{
 "cells": [
  {
   "cell_type": "code",
   "execution_count": 1,
   "id": "8fd65593",
   "metadata": {
    "tags": [
     "hide_cell"
    ]
   },
   "outputs": [
    {
     "data": {
      "text/html": [
       "<style>table {align:left;display:block} </style>"
      ],
      "text/plain": [
       "<IPython.core.display.HTML object>"
      ]
     },
     "execution_count": 1,
     "metadata": {},
     "output_type": "execute_result"
    }
   ],
   "source": [
    "from IPython.core.display import HTML\n",
    "table_css = 'table {align:left;display:block} '\n",
    "HTML('<style>{}</style>'.format(table_css))"
   ]
  },
  {
   "cell_type": "markdown",
   "id": "505c0ee9",
   "metadata": {},
   "source": [
    "# 5. Arrays\n",
    "\n",
    "## 5.2. Array operations\n",
    "\n",
    "Once you have initialized an array, you can do the following operations with it:\n",
    "\n",
    "| Syntax | Usage |\n",
    "|------- | ----- |\n",
    "| `${ARRAY[@]}` | Returns all elements of `ARRAY`. |\n",
    "| `${#ARRAY[@]}` | Returns the size of `ARRAY` (number of elements). |\n",
    "| `${#STRING}` | Returns the size of `STRING` (number of characters). |\n",
    "| `${ARRAY[INDEX]}` | Returns the element of `ARRAY` located in position `INDEX`. In bash the index of the first element is 0 instead of 1. |\n",
    "| `${#ARRAY[INDEX]}` | Returns the size of the element of `ARRAY` located in position `INDEX` (number of characters if it's a string array or number of digits if it's an array of integers). |\n",
    "| `${STRING:INDEX:1}` | Returns the character in position `INDEX` inside `STRING`. In bash the index of the first character of a string is 0 instead of 1. |\n",
    "| `${ARRAY[@]/OLD_ITEM/NEW_ITEM}` | Replaces <b>all occurrences</b> of `OLD_ITEM` by `NEW_ITEM`. You can also replace all elements with a specific pattern (see examples below). |\n",
    "| `${STRING/OLD_CHARACTETER/NEW_CHARACTER}` | Replaces the <b>first occurrence</b> of `OLD_CHARACTETER` by `NEW_CHARACTER`. You can also replace the first element in with a specific pattern (see examples below). |\n",
    "| `${STRING//OLD_CHARACTETER/NEW_CHARACTER}` | Replaces the <b>all occurrences</b> of `OLD_CHARACTETER` by `NEW_CHARACTER`. You can also replace all elements with a specific pattern (see examples below). |\n",
    "| `NEWARRAY=(\"${ARRAY[@]}\")` | Copy the elements of `ARRAY` into `NEWARRAY`. |\n",
    "| `NEWARRAY=(\"${ARRAY1[@]}\" \"${ARRAY2[@]}\" \"${ARRAY3[@]}\" ...)` | Concatenates arrays `ARRAY1`,`ARRAY2`, and `ARRAY3` into one single array called `NEWARRAY`. You can concatenate as many arrays as you want. |\n",
    "| `unset ARRAY` | Deletes `ARRAY` and its contents from memory. |\n",
    "| `unset ARRAY[INDEX]` | Deletes the element in position `INDEX` in `ARRAY` without modifying the indexes of the other items (see examples below). |\n",
    "| `${ARRAY[@]:START:NUM}` | Creates a sub-array from `ARRAY`, begining with the element in the position `START` and containing `NUM` elements (until the element in position `START`+`NUM`-1) |\n",
    "| `${STRING:START:NUM}` | Creates a sub-string from `STRING` begining with the character in the position `START` and containing `NUM` characters (until the character in position `START`+`NUM`-1) |\n",
    "| `SORTED=(IFS='\\n' $(sort <<< \"${ARRAY[*]}\"))` | Sorts in alphabetical order `ARRAY` and saves the result in `SORTED`. |\n",
    "| `IFS='+' SUM=$(echo \"scale=1; ${ARRAY[*]}\"` &#124; `bc)` | Adds all elements in `ARRAY` and saves the result in variable `SUM` (for numerical arrays). |\n",
    "| `IFS='+' AVG=$(echo \"scale=1; (${ARRAY[*]})/${#ARRAY[@]}\"` &#124; `bc)` | Calculates the average of elements in `ARRAY` and saves the result in variable `AVG`. |\n",
    "| `${!ARRAY[@}` | Prints the indexes of all elements in `ARRAY` |"
   ]
  },
  {
   "cell_type": "markdown",
   "id": "6203afc8",
   "metadata": {},
   "source": [
    "#### Examples: `${#STRING}`\n",
    "\n",
    "In the previous section we saw examples on how to print the size of an array using `${#ARRAY[@]}`. Eventhough a String is an array of letters, printing the size of a String is done in a different manner, we use `${#STRING}` instead. If I declare a variable as an array of letters instead of a string, then I can use the syntax `${#ARRAY[@]}`."
   ]
  },
  {
   "cell_type": "code",
   "execution_count": 9,
   "id": "0401acd8",
   "metadata": {},
   "outputs": [
    {
     "name": "stdout",
     "output_type": "stream",
     "text": [
      "Array: Colombia United States Germany Spain Canada\n",
      "The number of elements in the array is 5\n",
      "\n",
      "String: I have traved to Colombia United States Germany Spain Canada and Italy\n",
      "The number of characters in the string is 70\n",
      "The number of characters in hello is 5\n",
      "\n",
      "Array of letters: h e l l o\n",
      "The number of elements in the array is 5\n"
     ]
    }
   ],
   "source": [
    "%%bash\n",
    "# Create an array and print its size\n",
    "declare -a array=('Colombia' 'United States' 'Germany' 'Spain' 'Canada')\n",
    "echo \"Array: ${array[@]}\"\n",
    "echo \"The number of elements in the array is ${#array[@]}\"\n",
    "\n",
    "# Create a string and print its size\n",
    "string=\"I have traved to ${array[@]} and Italy\"\n",
    "echo \"\"\n",
    "echo \"String: ${string}\"\n",
    "echo \"The number of characters in the string is ${#string}\"\n",
    "\n",
    "# Create another string and print its size\n",
    "string=\"hello\"\n",
    "echo \"The number of characters in ${string} is ${#string}\"\n",
    "\n",
    "# Create an array of letters\n",
    "declare -a array_letters=('h' 'e' 'l' 'l' 'o')\n",
    "echo \"\"\n",
    "echo \"Array of letters: ${array_letters[@]}\"\n",
    "echo \"The number of elements in the array is ${#array_letters[@]}\""
   ]
  },
  {
   "cell_type": "markdown",
   "id": "da079b05",
   "metadata": {},
   "source": [
    "#### Examples: `${ARRAY[INDEX]}`\n",
    "\n",
    "The following examples will use the syntax `${ARRAY[INDEX]}` to access the element located in the position `INDEX` inside `ARRAY`. \n",
    "\n",
    "Remember that the first item in an array has index 0, the second item has index 1, etc. This is because <u>in bash, arrays start in the position 0 instead of position 1</u>.\n",
    "\n",
    "You can access the last element of an array using `size-1` as `INDEX`. In the previous example we learned how to obtain the size of an array (`${#ARRAY[@]}`).\n",
    "\n",
    "After assigning all the values to my array, I can print its contents using the expression `echo ${ARRAY[@]}`."
   ]
  },
  {
   "cell_type": "code",
   "execution_count": 5,
   "id": "07e6499d",
   "metadata": {},
   "outputs": [
    {
     "name": "stdout",
     "output_type": "stream",
     "text": [
      "Array: 59 63 21 15 94\n",
      "Array size: 5\n",
      "First element: 59\n",
      "Second element: 63\n",
      "Last element: 94\n",
      "Penultimate element: 15\n"
     ]
    }
   ],
   "source": [
    "%%bash\n",
    "# Create an array called age and add elements to it\n",
    "age[0]=59\n",
    "age[1]=63\n",
    "age[2]=21\n",
    "age[3]=15\n",
    "age[4]=94\n",
    "# Print the content of the array\n",
    "echo \"Array: ${age[@]}\"\n",
    "# Get the array size\n",
    "echo \"Array size: ${#age[@]}\"\n",
    "# Get the first element of the array\n",
    "echo \"First element: ${age[0]}\"\n",
    "# Get the second element of the array\n",
    "echo \"Second element: ${age[1]}\"\n",
    "# Get the last element of the array\n",
    "size=${#age[@]}\n",
    "echo \"Last element: ${age[size-1]}\"\n",
    "# Get the penultimate element\n",
    "echo \"Penultimate element: ${age[size-2]}\""
   ]
  },
  {
   "cell_type": "markdown",
   "id": "1b6a309e",
   "metadata": {},
   "source": [
    "In the example below, we skipped the position 5. So, the array has 9 instead of 10 elements. When we access the element in position 6 using `${age[5]}` we get an empty string. When we access the element in position 7 (`${age[6]}`) we get 55.\n",
    "\n",
    "When we try to access the last element using the position size-1 we get the wrong value! This is because we skipped an item, so the size of the array is 9 instead of 10. If we want to access the last item, we will be accessing the value in position `size` instead of `size-1`. So make things easier, make sure you dont skip any positions when adding items one by one. Or if possible, add all items at once using some of the syntaxes explained in the previous chapter."
   ]
  },
  {
   "cell_type": "code",
   "execution_count": 7,
   "id": "86b6776d",
   "metadata": {},
   "outputs": [
    {
     "name": "stdout",
     "output_type": "stream",
     "text": [
      "Array: 59 63 21 15 94 55 77 32 25\n",
      "Array size: 9\n",
      "First element: 59\n",
      "Second element: 63\n",
      "6th element: \n",
      "7th element: 55\n",
      "Last element?: 32\n",
      "Correct last element: 25\n",
      "Penultimate element?: 77\n",
      "Correct penultimate element: 32\n"
     ]
    }
   ],
   "source": [
    "%%bash\n",
    "# Create an array called age and add elements to it\n",
    "age[0]=59\n",
    "age[1]=63\n",
    "age[2]=21\n",
    "age[3]=15\n",
    "age[4]=94\n",
    "age[6]=55\n",
    "age[7]=77\n",
    "age[8]=32\n",
    "age[9]=25\n",
    "# Print the content of the array\n",
    "echo \"Array: ${age[@]}\"\n",
    "# Get the array size\n",
    "echo \"Array size: ${#age[@]}\"\n",
    "# Get the first element of the array\n",
    "echo \"First element: ${age[0]}\"\n",
    "# Get the second element of the array\n",
    "echo \"Second element: ${age[1]}\"\n",
    "# Get the element in the position that was skipped\n",
    "echo \"6th element: ${age[5]}\"\n",
    "# Get the element in the following position\n",
    "echo \"7th element: ${age[6]}\"\n",
    "# Get the last element of the array\n",
    "size=${#age[@]}\n",
    "echo \"Last element?: ${age[size-1]}\"\n",
    "echo \"Correct last element: ${age[size]}\"\n",
    "# Get the penultimate element\n",
    "echo \"Penultimate element?: ${age[size-2]}\"\n",
    "echo \"Correct penultimate element: ${age[size-1]}\""
   ]
  },
  {
   "cell_type": "code",
   "execution_count": 10,
   "id": "2cee39a5",
   "metadata": {},
   "outputs": [
    {
     "name": "stdout",
     "output_type": "stream",
     "text": [
      "The element in position 0 is: Colombia\n",
      "The element in position 1 is: United States\n",
      "The element in position 2 is: Germany\n",
      "The element in position 3 is: Spain\n",
      "The element in position 4 is: Canada\n"
     ]
    }
   ],
   "source": [
    "%%bash\n",
    "# Initiate the array with some values\n",
    "declare -a array=('Colombia' 'United States' 'Germany' 'Spain' 'Canada')\n",
    "\n",
    "# Read the different elemnts of the array\n",
    "echo \"The element in position 0 is: ${array[0]}\"\n",
    "echo \"The element in position 1 is: ${array[1]}\"\n",
    "echo \"The element in position 2 is: ${array[2]}\"\n",
    "echo \"The element in position 3 is: ${array[3]}\"\n",
    "echo \"The element in position 4 is: ${array[4]}\""
   ]
  },
  {
   "cell_type": "code",
   "execution_count": 14,
   "id": "f755d69f",
   "metadata": {},
   "outputs": [
    {
     "name": "stdout",
     "output_type": "stream",
     "text": [
      "String: 23.485\n",
      "Delimiter: .\n",
      "The integer part is 23, and the decimal part is 485\n",
      "Array size: 2\n"
     ]
    }
   ],
   "source": [
    "%%bash\n",
    "# Convert a string representing a float number into an array using dot as delimiter\n",
    "# then, access the integer and decimal parts\n",
    "string=\"23.485\"\n",
    "echo \"String: ${string}\"\n",
    "echo \"Delimiter: .\"\n",
    "IFS='.' read -a ARRAY <<< \"${string}\"\n",
    "echo \"The integer part is ${ARRAY[0]}, and the decimal part is ${ARRAY[1]}\"\n",
    "echo \"Array size: ${#ARRAY[@]}\""
   ]
  },
  {
   "cell_type": "markdown",
   "id": "3c2050dd",
   "metadata": {},
   "source": [
    "#### Examples: `${#ARRAY[INDEX]}`\n",
    "\n",
    "Now that we know how to access specific elements in an array, we can also check the size of an element in the array using `${#ARRAY[INDEX]}`. This will give the size of the element in position `INDEX` inside `ARRAY`."
   ]
  },
  {
   "cell_type": "code",
   "execution_count": 21,
   "id": "094aa6d4",
   "metadata": {},
   "outputs": [
    {
     "name": "stdout",
     "output_type": "stream",
     "text": [
      "The element in position 0 is 'Colombia' and it has 8 characters\n",
      "The element in position 1 is 'United States' and it has 13 characters\n",
      "The element in position 2 is 'Germany' and it has 7 characters\n",
      "The element in position 3 is 'Spain' and it has 5 characters\n",
      "The element in position 4 is 'Canada' and it has 6 characters\n"
     ]
    }
   ],
   "source": [
    "%%bash\n",
    "# Initiate the array with some values\n",
    "declare -a array=('Colombia' 'United States' 'Germany' 'Spain' 'Canada')\n",
    "\n",
    "# Read the different elemnts of the array\n",
    "echo \"The element in position 0 is '${array[0]}' and it has ${#array[0]} characters\"\n",
    "echo \"The element in position 1 is '${array[1]}' and it has ${#array[1]} characters\"\n",
    "echo \"The element in position 2 is '${array[2]}' and it has ${#array[2]} characters\"\n",
    "echo \"The element in position 3 is '${array[3]}' and it has ${#array[3]} characters\"\n",
    "echo \"The element in position 4 is '${array[4]}' and it has ${#array[4]} characters\""
   ]
  },
  {
   "cell_type": "markdown",
   "id": "25231ae1",
   "metadata": {},
   "source": [
    "#### Examples: `${STRING:INDEX:1}`\n",
    "\n",
    "Accessing individual characters in strings is done quite differently as accessing items inside and array. For strings, you must create a substring of one character, using the position of the character you want to access. Remember that similar to arrays, in batch the first character of a string is in position 0 instead of 1. For example, to access the first character (in position 0), you create a substring starting in index 0 and of size 1. To access the middle character I'm just using the index in position size/2."
   ]
  },
  {
   "cell_type": "code",
   "execution_count": 19,
   "id": "3301fa02",
   "metadata": {},
   "outputs": [
    {
     "name": "stdout",
     "output_type": "stream",
     "text": [
      "String 'I love learning bash' is of size 20\n",
      "First chatacter: I\n",
      "Second chatacter:  \n",
      "Third character: l\n",
      "Fourth character: o\n",
      "Last character: h\n",
      "Penultimate character: s\n",
      "Third last character: a\n",
      "Middle character: r\n"
     ]
    }
   ],
   "source": [
    "%%bash\n",
    "my_string=\"I love learning bash\"\n",
    "# Print the string and its size\n",
    "size_string=${#my_string}\n",
    "echo \"String '${my_string}' is of size ${size_string}\"\n",
    "# Try to access the first and second characters the same way as we did with arrays\n",
    "# It wont work, it will print the whole string instead of the first character for the position 0, and nothing for any other index.\n",
    "echo \"First chatacter: ${my_string:0:1}\"\n",
    "echo \"Second chatacter: ${my_string:1:1}\"\n",
    "echo \"Third character: ${my_string:2:1}\"\n",
    "echo \"Fourth character: ${my_string:3:1}\"\n",
    "echo \"Last character: ${my_string:size_string-1:1}\"\n",
    "echo \"Penultimate character: ${my_string:size_string-2:1}\"\n",
    "echo \"Third last character: ${my_string:size_string-3:1}\"\n",
    "echo \"Middle character: ${my_string:size_string/2:1}\""
   ]
  },
  {
   "cell_type": "markdown",
   "id": "e5b0acb6",
   "metadata": {},
   "source": [
    "#### Examples: `${ARRAY[@]/OLD_ITEM/NEW_ITEM}`"
   ]
  },
  {
   "cell_type": "markdown",
   "id": "15b40f8c",
   "metadata": {},
   "source": [
    "#### Examples: `${STRING/OLD_CHARACTETER/NEW_CHARACTER}`"
   ]
  },
  {
   "cell_type": "markdown",
   "id": "80f119c2",
   "metadata": {},
   "source": [
    "#### Examples: `${STRING//OLD_CHARACTETER/NEW_CHARACTER}`"
   ]
  },
  {
   "cell_type": "markdown",
   "id": "2c5b2c67",
   "metadata": {},
   "source": [
    "#### Examples: `NEWARRAY=(\"${ARRAY[@]}\")`"
   ]
  },
  {
   "cell_type": "markdown",
   "id": "4c178a1a",
   "metadata": {},
   "source": [
    "#### Examples: `NEWARRAY=(\"${ARRAY1[@]}\" \"${ARRAY2[@]}\" \"${ARRAY3[@]}\" …)`"
   ]
  },
  {
   "cell_type": "markdown",
   "id": "aada163b",
   "metadata": {},
   "source": [
    "#### Examples: `unset ARRAY`"
   ]
  },
  {
   "cell_type": "markdown",
   "id": "040a565d",
   "metadata": {},
   "source": [
    "#### Examples: `unset ARRAY[INDEX]`"
   ]
  },
  {
   "cell_type": "markdown",
   "id": "cc423474",
   "metadata": {},
   "source": [
    "#### Examples: `${ARRAY[@]:START:NUM}`"
   ]
  },
  {
   "cell_type": "markdown",
   "id": "6df1a725",
   "metadata": {},
   "source": [
    "#### Examples: `${STRING:START:NUM}`"
   ]
  },
  {
   "cell_type": "markdown",
   "id": "c0997987",
   "metadata": {},
   "source": [
    "#### Examples: `SORTED=(IFS='\\n' $(sort <<< \"${ARRAY[*]}\"))`"
   ]
  },
  {
   "cell_type": "markdown",
   "id": "70ea3e95",
   "metadata": {},
   "source": [
    "#### Examples: `IFS='+' SUM=$(echo \"scale=1; ${ARRAY[*]}\" | bc)`"
   ]
  },
  {
   "cell_type": "markdown",
   "id": "4b65b6c8",
   "metadata": {},
   "source": [
    "#### Examples: `IFS='+' AVG=$(echo \"scale=1; (${ARRAY[*]})/${#ARRAY[@]}\" | bc)`"
   ]
  },
  {
   "cell_type": "markdown",
   "id": "33143541",
   "metadata": {},
   "source": [
    "#### Examples: `${!ARRAY[@]}`"
   ]
  }
 ],
 "metadata": {
  "celltoolbar": "Tags",
  "kernelspec": {
   "display_name": "Python 3 (ipykernel)",
   "language": "python",
   "name": "python3"
  },
  "language_info": {
   "codemirror_mode": {
    "name": "ipython",
    "version": 3
   },
   "file_extension": ".py",
   "mimetype": "text/x-python",
   "name": "python",
   "nbconvert_exporter": "python",
   "pygments_lexer": "ipython3",
   "version": "3.9.9"
  }
 },
 "nbformat": 4,
 "nbformat_minor": 5
}

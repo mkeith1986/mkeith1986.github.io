{
 "cells": [
  {
   "cell_type": "code",
   "execution_count": 1,
   "id": "8fd65593",
   "metadata": {
    "tags": [
     "hide_cell"
    ]
   },
   "outputs": [
    {
     "data": {
      "text/html": [
       "<style>table {align:left;display:block} </style>"
      ],
      "text/plain": [
       "<IPython.core.display.HTML object>"
      ]
     },
     "execution_count": 1,
     "metadata": {},
     "output_type": "execute_result"
    }
   ],
   "source": [
    "from IPython.core.display import HTML\n",
    "table_css = 'table {align:left;display:block} '\n",
    "HTML('<style>{}</style>'.format(table_css))"
   ]
  },
  {
   "cell_type": "markdown",
   "id": "505c0ee9",
   "metadata": {},
   "source": [
    "# 5. Arrays\n",
    "\n",
    "## 5.2. Array operations\n",
    "\n",
    "Once you have initialized an array, you can do the following operations with it:\n",
    "\n",
    "| Syntax | Usage |\n",
    "|------- | ----- |\n",
    "| `${ARRAY[INDEX]}` | Returns the element of `ARRAY` located in position `INDEX`. In bash the index of the first element is 0 instead of 1. |\n",
    "| `${STRING:INDEX:1}` | Returns the character in position `INDEX` inside `STRING`. In bash the index of the first character of a string is 0 instead of 1. |\n",
    "| `${#ARRAY[@]}` | Returns the size of `ARRAY` (number of elements). |\n",
    "| `${#STRING}` | Returns the size of `STRING` (number of characters). |\n",
    "| `${#ARRAY[INDEX]}` | Returns the size of the element of `ARRAY` located in position `INDEX` (number of characters if it's a string array or number of digits if it's an array of integers). |\n",
    "| `${ARRAY[@]}` | Returns all elements of `ARRAY`. |\n",
    "| `${ARRAY[@]/OLD_ITEM/NEW_ITEM}` | Replaces <b>all occurrences</b> of `OLD_ITEM` by `NEW_ITEM`. You can also replace all elements with a specific pattern (see examples below). |\n",
    "| `${STRING/OLD_CHARACTETER/NEW_CHARACTER}` | Replaces the <b>first occurrence</b> of `OLD_CHARACTETER` by `NEW_CHARACTER`. You can also replace the first element in with a specific pattern (see examples below). |\n",
    "| `${STRING//OLD_CHARACTETER/NEW_CHARACTER}` | Replaces the <b>all occurrences</b> of `OLD_CHARACTETER` by `NEW_CHARACTER`. You can also replace all elements with a specific pattern (see examples below). |\n",
    "| `NEWARRAY=(\"${ARRAY[@]}\")` | Copy the elements of `ARRAY` into `NEWARRAY`. |\n",
    "| `NEWARRAY=(\"${ARRAY1[@]}\" \"${ARRAY2[@]}\" \"${ARRAY3[@]}\" ...)` | Concatenates arrays `ARRAY1`,`ARRAY2`, and `ARRAY3` into one single array called `NEWARRAY`. You can concatenate as many arrays as you want. |\n",
    "| `unset ARRAY` | Deletes `ARRAY` and its contents from memory. |\n",
    "| `unset ARRAY[INDEX]` | Deletes the element in position `INDEX` in `ARRAY` without modifying the indexes of the other items (see examples below). |\n",
    "| `${ARRAY[@]:START:NUM}` | Creates a sub-array from `ARRAY`, begining with the element in the position `START` and containing `NUM` elements (until the element in position `START`+`NUM`-1) |\n",
    "| `${STRING:START:NUM}` | Creates a sub-string from `STRING` begining with the character in the position `START` and containing `NUM` characters (until the character in position `START`+`NUM`-1) |\n",
    "| `SORTED=(IFS='\\n' $(sort <<< \"${ARRAY[*]}\"))` | Sorts in alphabetical order `ARRAY` and saves the result in `SORTED`. |\n",
    "| `IFS='+' SUM=$(echo \"scale=1; ${ARRAY[*]}\"` &#124; `bc)` | Adds all elements in `ARRAY` and saves the result in variable `SUM` (for numerical arrays). |"
   ]
  },
  {
   "cell_type": "markdown",
   "id": "25231ae1",
   "metadata": {},
   "source": [
    "#### Examples: `${#STRING} ${STRING:INDEX:1}`\n",
    "\n",
    "In the previous section (5.1) we learned how to create an array, know its size and access specific items. In the following examples we will see how to do similar things with strings. \n",
    "\n",
    "Accessing individual characters in strings is done quite differently as accessing items inside and array. For strings, you create a substring of one character, using the position of that character. Remember that similar to arrays, in batch the firt character of a string is in position 0 instead of 1."
   ]
  },
  {
   "cell_type": "code",
   "execution_count": 2,
   "id": "3301fa02",
   "metadata": {},
   "outputs": [
    {
     "name": "stdout",
     "output_type": "stream",
     "text": [
      "String 'I love learning bash' is of size 20\n",
      "First chatacter: I love learning bash\n",
      "Second chatacter: \n"
     ]
    }
   ],
   "source": [
    "%%bash\n",
    "my_string=\"I love learning bash\"\n",
    "# Print the string and its size\n",
    "echo \"String '${my_string}' is of size ${#my_string}\"\n",
    "# Try to access the first and second characters the same way as we did with arrays\n",
    "# It wont work, it will print the whole string instead of the first character for the position 0, and nothing for any other index.\n",
    "echo \"First chatacter: ${my_string[0]}\"\n",
    "echo \"Second chatacter: ${my_string[1]}\"\n"
   ]
  },
  {
   "cell_type": "markdown",
   "id": "e5b0acb6",
   "metadata": {},
   "source": [
    "#### Examples: `${ARRAY[&#64;]/OLD_ITEM/NEW_ITEM}`"
   ]
  },
  {
   "cell_type": "markdown",
   "id": "15b40f8c",
   "metadata": {},
   "source": [
    "#### Examples: `${STRING/OLD_CHARACTETER/NEW_CHARACTER}`"
   ]
  },
  {
   "cell_type": "markdown",
   "id": "80f119c2",
   "metadata": {},
   "source": [
    "#### Examples: `${STRING//OLD_CHARACTETER/NEW_CHARACTER}`"
   ]
  },
  {
   "cell_type": "markdown",
   "id": "2c5b2c67",
   "metadata": {},
   "source": [
    "#### Examples: `NEWARRAY=(\"${ARRAY[&#64;]}\")`"
   ]
  },
  {
   "cell_type": "markdown",
   "id": "4c178a1a",
   "metadata": {},
   "source": [
    "#### Examples: `NEWARRAY=(\"${ARRAY1[&#64;]}\" \"${ARRAY2[&#64;]}\" \"${ARRAY3[&#64;]}\" …)`"
   ]
  },
  {
   "cell_type": "markdown",
   "id": "aada163b",
   "metadata": {},
   "source": [
    "#### Examples: `unset ARRAY`"
   ]
  },
  {
   "cell_type": "markdown",
   "id": "040a565d",
   "metadata": {},
   "source": [
    "#### Examples: `unset ARRAY[INDEX]`"
   ]
  },
  {
   "cell_type": "markdown",
   "id": "6df1a725",
   "metadata": {},
   "source": [
    "#### Examples: `${STRING:START:NUM}`"
   ]
  },
  {
   "cell_type": "markdown",
   "id": "cc423474",
   "metadata": {},
   "source": [
    "#### Examples: `${ARRAY[&#64;]:START:NUM}`"
   ]
  },
  {
   "cell_type": "markdown",
   "id": "c0997987",
   "metadata": {},
   "source": [
    "#### Examples: `SORTED=(IFS='\\n' $(sort <<< \"${ARRAY[&ast;]}\"))`"
   ]
  },
  {
   "cell_type": "markdown",
   "id": "70ea3e95",
   "metadata": {},
   "source": [
    "#### Examples: `IFS='+' SUM=$(echo \"scale=1; ${ARRAY[*]}\" | bc)`"
   ]
  },
  {
   "cell_type": "markdown",
   "id": "4b65b6c8",
   "metadata": {},
   "source": [
    "#### Examples: `IFS='+' AVG=$(echo \"scale=1; (${ARRAY[*]})/${#ARRAY[@]}\" | bc)`"
   ]
  },
  {
   "cell_type": "markdown",
   "id": "33143541",
   "metadata": {},
   "source": [
    "#### Examples: `${!ARRAY[@]}`"
   ]
  }
 ],
 "metadata": {
  "celltoolbar": "Tags",
  "kernelspec": {
   "display_name": "Python 3 (ipykernel)",
   "language": "python",
   "name": "python3"
  },
  "language_info": {
   "codemirror_mode": {
    "name": "ipython",
    "version": 3
   },
   "file_extension": ".py",
   "mimetype": "text/x-python",
   "name": "python",
   "nbconvert_exporter": "python",
   "pygments_lexer": "ipython3",
   "version": "3.9.9"
  }
 },
 "nbformat": 4,
 "nbformat_minor": 5
}

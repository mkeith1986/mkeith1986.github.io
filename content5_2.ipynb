{
 "cells": [
  {
   "cell_type": "code",
   "execution_count": 1,
   "id": "8fd65593",
   "metadata": {
    "tags": [
     "hide_cell"
    ]
   },
   "outputs": [
    {
     "data": {
      "text/html": [
       "<style>table {align:left;display:block} </style>"
      ],
      "text/plain": [
       "<IPython.core.display.HTML object>"
      ]
     },
     "execution_count": 1,
     "metadata": {},
     "output_type": "execute_result"
    }
   ],
   "source": [
    "from IPython.core.display import HTML\n",
    "table_css = 'table {align:left;display:block} '\n",
    "HTML('<style>{}</style>'.format(table_css))"
   ]
  },
  {
   "cell_type": "code",
   "execution_count": 2,
   "id": "ce59eba2",
   "metadata": {
    "tags": [
     "hide_cell"
    ]
   },
   "outputs": [
    {
     "data": {
      "text/html": [
       "\n",
       "<style>\n",
       ".bashcommand {\n",
       "\tfont-family: Courier;\n",
       "\tfont-size: 12px;\n",
       "}\n",
       "</style>\n"
      ],
      "text/plain": [
       "<IPython.core.display.HTML object>"
      ]
     },
     "execution_count": 2,
     "metadata": {},
     "output_type": "execute_result"
    }
   ],
   "source": [
    "from IPython.core.display import HTML\n",
    "HTML(\"\"\"\n",
    "<style>\n",
    ".bashcommand {\n",
    "\tfont-family: Courier;\n",
    "\tfont-size: 12px;\n",
    "}\n",
    "</style>\n",
    "\"\"\")"
   ]
  },
  {
   "cell_type": "markdown",
   "id": "505c0ee9",
   "metadata": {},
   "source": [
    "<a id='top'></a>\n",
    "# 5. Arrays\n",
    "\n",
    "## 5.2. Array operations\n",
    "\n",
    "Once you have initialized an array, you can do the following operations with it:\n",
    "\n",
    "<table>\n",
    "    <tr>\n",
    "        <th>Syntax</th>\n",
    "\t\t<th>Usage</th>\n",
    "    </tr>\n",
    "\t\t\t\t\t\t\n",
    "    <tr>\n",
    "        <td><font class=\"bashcommand\">&dollar;{ARRAY[INDEX]}</font></td>\n",
    "        <td>Returns the element in position <font class=\"bashcommand\">INDEX</font> inside <font class=\"bashcommand\">ARRAY</font>. In bash the index of the first element is 0 instead of 1.</td>\n",
    "    </tr>\n",
    "\t\t\t\t\t\t\n",
    "    <tr>\n",
    "        <td><font class=\"bashcommand\">&dollar;{STRING:INDEX:1}</font></td>\n",
    "        <td>Returns the character in position <font class=\"bashcommand\">INDEX</font> inside <font class=\"bashcommand\">STRING</font>. In bash the index of the first character of a string is 0 instead of 1.</td>\n",
    "    </tr>\n",
    "\t\t\t\t\t\t\n",
    "    <tr>\n",
    "        <td><font class=\"bashcommand\">&dollar;{#ARRAY[&#64;]}</font></td>\n",
    "        <td>Returns the size of <font class=\"bashcommand\">ARRAY</font> (number of elements).</td>\n",
    "    </tr>\n",
    "    \n",
    "    <tr>\n",
    "        <td><font class=\"bashcommand\">&dollar;{#STRING}</font></td>\n",
    "        <td>Returns the size of <font class=\"bashcommand\">STRING</font> (number of characters).</td>\n",
    "    </tr>\n",
    "\t\t\t\t\t\t\n",
    "    <tr>\n",
    "        <td><font class=\"bashcommand\">&dollar;{#ARRAY[INDEX]}</font></td>\n",
    "        <td>Returns the size of the element in the position <font class=\"bashcommand\">INDEX</font> (number of characters if it's a string array or number of digits if it's an array of integers).</td>\n",
    "    </tr>\n",
    "\t\t\t\t\t\t\n",
    "    <tr>\n",
    "        <td><font class=\"bashcommand\">&dollar;{ARRAY[&#64;]}</font></td>\n",
    "        <td>Returns all elements of <font class=\"bashcommand\">ARRAY</font>.</td>\n",
    "    </tr>\n",
    "\t\t\t\t\t\t\n",
    "    <tr>\n",
    "        <td><font class=\"bashcommand\">&dollar;{ARRAY[&#64;]/OLD_ITEM/NEW_ITEM}</font></td>\n",
    "        <td>Replaces <b>all occurrences</b> of <font class=\"bashcommand\">OLD_ITEM</font> by <font class=\"bashcommand\">NEW_ITEM</font>. You can also replace all elements with a specific pattern (see examples below).</td>\n",
    "    </tr>\n",
    "\t\t\t\t\t\t\n",
    "    <tr>\n",
    "        <td><font class=\"bashcommand\">&dollar;{STRING/OLD_CHARACTETER/NEW_CHARACTER}</font></td>\n",
    "        <td>Replaces the <b>first occurrence</b> of <font class=\"bashcommand\">OLD_CHARACTETER</font> by <font class=\"bashcommand\">NEW_CHARACTER</font>. You can also replace the first element in with a specific pattern (see examples below).</td>\n",
    "    </tr>\n",
    "\t\t\t\t\t\t\n",
    "    <tr>\n",
    "        <td><font class=\"bashcommand\">&dollar;{STRING//OLD_CHARACTETER/NEW_CHARACTER}</font></td>\n",
    "        <td>Replaces the <b>all occurrences</b> of <font class=\"bashcommand\">OLD_CHARACTETER</font> by <font class=\"bashcommand\">NEW_CHARACTER</font>. You can also replace all elements with a specific pattern (see examples below).</td>\n",
    "    </tr>\n",
    "\t\t\t\t\t\t\n",
    "    <tr>\n",
    "        <td><font class=\"bashcommand\">NEWARRAY=(&quot;&dollar;{ARRAY[&#64;]}&quot;)</font></td>\n",
    "        <td>Copy the elements of <font class=\"bashcommand\">ARRAY</font> into <font class=\"bashcommand\">NEWARRAY</font>.</td>\n",
    "    </tr>\n",
    "\t\t\t\t\t\t\n",
    "    <tr>\n",
    "        <td><font class=\"bashcommand\">NEWARRAY=(&quot;\\&dollar;{ARRAY1[&commat;]}&quot; &quot;\\&dollar;{ARRAY2[&commat;]}&quot; &quot;\\&dollar;{ARRAY3[&commat;]}&quot; &hellip;)</font></td>\n",
    "        <td>Concatenates arrays <font class=\"bashcommand\">ARRAY1</font>, <font class=\"bashcommand\">ARRAY2</font>, and <font class=\"bashcommand\">ARRAY3</font> into one single array called <font class=\"bashcommand\">NEWARRAY</font>. You can concatenate as many arrays as you want.</td>\n",
    "    </tr>\n",
    "\t\t\t\t\t\t\n",
    "    <tr>\n",
    "        <td><font class=\"bashcommand\">unset ARRAY</font></td>\n",
    "        <td>Deletes <font class=\"bashcommand\">ARRAY</font> from memory.</td>\n",
    "    </tr>\n",
    "\t\t\t\t\t\t\n",
    "    <tr>\n",
    "        <td><font class=\"bashcommand\">unset ARRAY[INDEX]</font></td>\n",
    "        <td>Deletes the element in position <font class=\"bashcommand\">INDEX</font> in <font class=\"bashcommand\">ARRAY</font> without modifying the indexes of the other items (see examples below).</td>\n",
    "    </tr>\n",
    "\t\t\t\t\t\t\n",
    "    <tr>\n",
    "        <td><font class=\"bashcommand\">&dollar;{ARRAY[&#64;]:START:NUM}</font></td>\n",
    "        <td>Creates a sub-array from <font class=\"bashcommand\">ARRAY</font> begining with the element in the position <font class=\"bashcommand\">START</font> and containing <font class=\"bashcommand\">NUM</font> elements (until the element in position <font class=\"bashcommand\">START</font>+<font class=\"bashcommand\">NUM</font>-1)</td>\n",
    "    </tr>\n",
    "\t\t\t\t\t\t\n",
    "    <tr>\n",
    "        <td><font class=\"bashcommand\">&dollar;{STRING:START:NUM}</font></td>\n",
    "        <td>Creates a sub-string from <font class=\"bashcommand\">STRING</font> begining with the character in the position <font class=\"bashcommand\">START</font> and containing <font class=\"bashcommand\">NUM</font> characters (until the character in position <font class=\"bashcommand\">START</font>+<font class=\"bashcommand\">NUM</font>-1)</td>\n",
    "    </tr>\n",
    "\t\t\t\t\t\t\n",
    "    <tr>\n",
    "        <td>SORTED=(IFS='&bsol;n' \\&dollar;(sort &lt;&lt;&lt; &quot;\\&dollar;{ARRAY[*]}&quot;))</td>\n",
    "        <td>Sorts in alphabetical order <font class=\"bashcommand\">ARRAY</font> and saves the result in <font class=\"bashcommand\">SORTED</font>.</td>\n",
    "    </tr>\n",
    "\t\t\t\t\t\t\n",
    "    <tr>\n",
    "        <td>IFS='+' SUM=\\&dollar;(echo &quot;scale=1; \\&dollar;{ARRAY[*]}&quot; | bc)</td>\n",
    "        <td>Adds all elements in <font class=\"bashcommand\">ARRAY</font> and saves the result in variable <font class=\"bashcommand\">SUM</font> (for numerical arrays).</td>\n",
    "    </tr>\n",
    "\t\t\t\t\t\t\n",
    "    <tr>\n",
    "        <td>IFS='+' AVG=\\&dollar;(echo &quot;scale=1; (\\&dollar;{ARRAY[*]})/\\&dollar;{#ARRAY[&#64;]}&quot; | bc)</td>\n",
    "        <td>Calculates the average of elements in <font class=\"bashcommand\">ARRAY</font> and saves the result in variable <font class=\"bashcommand\">AVG</font>.</td>\n",
    "    </tr>\n",
    "    \n",
    "    <tr>\n",
    "        <td><font class=\"bashcommand\">&dollar;{!ARRAY[&#64;]}</font></td>\n",
    "        <td>Prints the indexes of all elements in <font class=\"bashcommand\">ARRAY</font></td>\n",
    "    </tr>\n",
    "</table>\n",
    "[Go to top](#top)"
   ]
  },
  {
   "cell_type": "markdown",
   "id": "57d9910d",
   "metadata": {},
   "source": [
    "#### Examples: &dollar;{ARRAY[INDEX]}\n",
    "[Go to top](#top)"
   ]
  },
  {
   "cell_type": "markdown",
   "id": "a7ba1d93",
   "metadata": {},
   "source": [
    "#### Examples: &dollar;{STRING:INDEX:1}\n",
    "[Go to top](#top)"
   ]
  },
  {
   "cell_type": "markdown",
   "id": "37bf3e17",
   "metadata": {},
   "source": [
    "#### Examples: &dollar;{#ARRAY[&#64;]}\n",
    "[Go to top](#top)"
   ]
  },
  {
   "cell_type": "markdown",
   "id": "a908ed99",
   "metadata": {},
   "source": [
    "#### Examples: &dollar;{#STRING}\n",
    "[Go to top](#top)"
   ]
  },
  {
   "cell_type": "markdown",
   "id": "0ebb34c5",
   "metadata": {},
   "source": [
    "#### Examples: &dollar;{#ARRAY[INDEX]}\n",
    "[Go to top](#top)"
   ]
  },
  {
   "cell_type": "markdown",
   "id": "29458efe",
   "metadata": {},
   "source": [
    "#### Examples: &dollar;{ARRAY[&#64;]}\n",
    "[Go to top](#top)"
   ]
  },
  {
   "cell_type": "markdown",
   "id": "e5b0acb6",
   "metadata": {},
   "source": [
    "#### Examples: &dollar;{ARRAY[&#64;]/OLD_ITEM/NEW_ITEM}\n",
    "[Go to top](#top)"
   ]
  },
  {
   "cell_type": "markdown",
   "id": "15b40f8c",
   "metadata": {},
   "source": [
    "#### Examples: &dollar;{STRING/OLD_CHARACTETER/NEW_CHARACTER}\n",
    "[Go to top](#top)"
   ]
  },
  {
   "cell_type": "markdown",
   "id": "80f119c2",
   "metadata": {},
   "source": [
    "#### Examples: &dollar;{STRING//OLD_CHARACTETER/NEW_CHARACTER}\n",
    "[Go to top](#top)"
   ]
  },
  {
   "cell_type": "markdown",
   "id": "2c5b2c67",
   "metadata": {},
   "source": [
    "#### Examples: NEWARRAY=(\"&dollar;{ARRAY[&#64;]}\")\n",
    "[Go to top](#top)"
   ]
  },
  {
   "cell_type": "markdown",
   "id": "4c178a1a",
   "metadata": {},
   "source": [
    "#### Examples: NEWARRAY=(\"&dollar;{ARRAY1[&#64;]}\" \"&dollar;{ARRAY2[&#64;]}\" \"&dollar;{ARRAY3[&#64;]}\" …)\n",
    "[Go to top](#top)"
   ]
  },
  {
   "cell_type": "markdown",
   "id": "aada163b",
   "metadata": {},
   "source": [
    "#### Examples: unset ARRAY\n",
    "[Go to top](#top)"
   ]
  },
  {
   "cell_type": "markdown",
   "id": "040a565d",
   "metadata": {},
   "source": [
    "#### Examples: unset ARRAY[INDEX]\n",
    "[Go to top](#top)"
   ]
  },
  {
   "cell_type": "markdown",
   "id": "cc423474",
   "metadata": {},
   "source": [
    "#### Examples: &dollar;{ARRAY[&#64;]:START:NUM}\n",
    "[Go to top](#top)"
   ]
  },
  {
   "cell_type": "markdown",
   "id": "ca9a5838",
   "metadata": {},
   "source": [
    "#### Examples: &dollar;{STRING:START:NUM}\n",
    "[Go to top](#top)"
   ]
  },
  {
   "cell_type": "markdown",
   "id": "c0997987",
   "metadata": {},
   "source": [
    "#### Examples: SORTED=(IFS='\\n' &dollar;(sort <<< \"&dollar;{ARRAY[&ast;]}\"))\n",
    "[Go to top](#top)"
   ]
  },
  {
   "cell_type": "markdown",
   "id": "70ea3e95",
   "metadata": {},
   "source": [
    "#### Examples: IFS='+' SUM=&dollar;(echo \"scale=1; &dollar;{ARRAY[&ast;]}\" | bc)\n",
    "[Go to top](#top)"
   ]
  },
  {
   "cell_type": "markdown",
   "id": "4b65b6c8",
   "metadata": {},
   "source": [
    "#### Examples: IFS='+' AVG=&dollar;(echo \"scale=1; (&dollar;{ARRAY[&ast;]})/&dollar;{#ARRAY[&#64;]}\" | bc)\n",
    "[Go to top](#top)"
   ]
  },
  {
   "cell_type": "markdown",
   "id": "33143541",
   "metadata": {},
   "source": [
    "#### Examples: &dollar;{!ARRAY[&#64;]}\n",
    "[Go to top](#top)"
   ]
  }
 ],
 "metadata": {
  "celltoolbar": "Tags",
  "kernelspec": {
   "display_name": "Python 3 (ipykernel)",
   "language": "python",
   "name": "python3"
  },
  "language_info": {
   "codemirror_mode": {
    "name": "ipython",
    "version": 3
   },
   "file_extension": ".py",
   "mimetype": "text/x-python",
   "name": "python",
   "nbconvert_exporter": "python",
   "pygments_lexer": "ipython3",
   "version": "3.8.3"
  }
 },
 "nbformat": 4,
 "nbformat_minor": 5
}

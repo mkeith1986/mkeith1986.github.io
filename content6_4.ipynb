{
 "cells": [
  {
   "cell_type": "code",
   "execution_count": 1,
   "id": "ec1016c3",
   "metadata": {
    "tags": [
     "hide_cell"
    ]
   },
   "outputs": [
    {
     "data": {
      "text/html": [
       "<style>table {align:left;display:block} </style>"
      ],
      "text/plain": [
       "<IPython.core.display.HTML object>"
      ]
     },
     "execution_count": 1,
     "metadata": {},
     "output_type": "execute_result"
    }
   ],
   "source": [
    "from IPython.core.display import HTML\n",
    "table_css = 'table {align:left;display:block} '\n",
    "HTML('<style>{}</style>'.format(table_css))"
   ]
  },
  {
   "cell_type": "code",
   "execution_count": 2,
   "id": "c62cb29e",
   "metadata": {
    "tags": [
     "hide_cell"
    ]
   },
   "outputs": [
    {
     "data": {
      "text/html": [
       "\n",
       "<style>\n",
       ".bashcommand {\n",
       "\tfont-family: Courier;\n",
       "\tfont-size: 12px;\n",
       "}\n",
       "</style>\n"
      ],
      "text/plain": [
       "<IPython.core.display.HTML object>"
      ]
     },
     "execution_count": 2,
     "metadata": {},
     "output_type": "execute_result"
    }
   ],
   "source": [
    "from IPython.core.display import HTML\n",
    "HTML(\"\"\"\n",
    "<style>\n",
    ".bashcommand {\n",
    "\tfont-family: Courier;\n",
    "\tfont-size: 12px;\n",
    "}\n",
    "</style>\n",
    "\"\"\")"
   ]
  },
  {
   "cell_type": "markdown",
   "id": "01375757",
   "metadata": {},
   "source": [
    "<a id='top'></a>\n",
    "# 6. Condition-testing\n",
    "\n",
    "Variables can be used to test if a certain condition is true or false, and therefore be able to take a different course of action depending on the result of the test. For example, you might want to evaluate if a file exists to decide if you can copy it into a different folder or not. For condition-testing, you will use the <font class=\"bashcommand\">if</font> command. This command has the following syntax:\n",
    "\n",
    "if &lbrack; CONDITION_TO_EVALUATE &rbrack;  \n",
    "then  \n",
    "    &emsp;&lt;INSTRUCTIONS THAT WILL RUN IF THE CONDITION IS TRUE&gt;  \n",
    "elif &lbrack; OTHER_CONDITION_TO_EVALUATE_IF_1ST_CONDITION_IS_FALSE &rbrack;  \n",
    "then  \n",
    "    &emsp;&lt;INSTRUCTIONS THAT WILL RUN IF FIRST CONDITION IS FALSE BUT SECOND IS TRUE&gt;  \n",
    "else  \n",
    "    &emsp;&lt;INSTRUCTIONS THAT WILL RUN IF ALL THE PREVIOUS CONDITIONS ARE FALSE&gt;  \n",
    "fi\n",
    "\n",
    "The <font class=\"bashcommand\">CONDITION_TO_EVALUATE</font> is an expression that follows a specific syntax depending on what you want to test (checking files, string comparison, comparing numbers, or combining different expressions). Lets look at the different syntaxes used in each of these situations and at some examples that will help you understand this topic.\n",
    "\n",
    "## 6.4. Condition-testing to compare arrays\n",
    "\n",
    "The spaces after the left bracket and before the right bracket are very important. If those spaces are missing, bash will give an error.\n",
    "\n",
    "<table>\n",
    "    <tr>\n",
    "        <th>Syntax</th>\n",
    "\t\t<th>Usage</th>\n",
    "    </tr>\n",
    "\t\t\t\t\t\t\n",
    "    <tr>\n",
    "        <td><font class=\"bashcommand\">[ \"${array1[*]}\" == \"${array2[*]}\" ]</font></td>\n",
    "        <td>Tests if array1 equals to array2</td>\n",
    "    </tr>\n",
    "\t\t\t\t\t\t\n",
    "    <tr>\n",
    "        <td><font class=\"bashcommand\">[ \"${array1[*]}\" != \"${array2[*]}\" ]</font></td>\n",
    "        <td>Tests if array1 is different to array2</td>\n",
    "    </tr>\n",
    "</table>\n",
    "[Go to top](#top)"
   ]
  },
  {
   "cell_type": "code",
   "execution_count": 20,
   "id": "23844353",
   "metadata": {},
   "outputs": [
    {
     "name": "stdout",
     "output_type": "stream",
     "text": [
      "Comparing arr1 and arr2:\n",
      "the arrays are different\n",
      "\n",
      "Comparing arr1 and arr3:\n",
      "the arrays are equal\n",
      "\n",
      "Comparing arr3 and arr4:\n",
      "the arrays are different\n",
      "\n",
      "Comparing the elements of arr3 and arr4:\n",
      "they have the same elements\n",
      "\n",
      "Comparing the size of arr3 and arr4:\n",
      "they are the same size\n",
      "\n",
      "Comparing the size of arr2 and arr3:\n",
      "they have different size\n"
     ]
    }
   ],
   "source": [
    "%%bash\n",
    "arr1=(a b c)\n",
    "arr2=(a b c d)\n",
    "arr3=(a b c)\n",
    "arr4=(c b a)\n",
    "\n",
    "echo \"Comparing arr1 and arr2:\"\n",
    "if [ \"${arr1[*]}\" == \"${arr2[*]}\" ]\n",
    "then\n",
    "    echo \"the arrays are equal\"\n",
    "else\n",
    "    echo \"the arrays are different\"\n",
    "fi\n",
    "\n",
    "echo \"\"\n",
    "echo \"Comparing arr1 and arr3:\"\n",
    "if [ \"${arr1[*]}\" == \"${arr3[*]}\" ]\n",
    "then\n",
    "    echo \"the arrays are equal\"\n",
    "else\n",
    "    echo \"the arrays are different\"\n",
    "fi\n",
    "\n",
    "# The following example shows that the order matters. \n",
    "# Arrays 3 and 4 have the same elements, \n",
    "# but the arrays are not the same because the elements are in different order.\n",
    "echo \"\"\n",
    "echo \"Comparing arr3 and arr4:\"\n",
    "if [ \"${arr3[*]}\" == \"${arr4[*]}\" ]\n",
    "then\n",
    "    echo \"the arrays are equal\"\n",
    "else\n",
    "    echo \"the arrays are different\"\n",
    "fi\n",
    "\n",
    "# We could test if two arrays have the same elements instead of testing if the two arrays are equal\n",
    "# The way to do this is first sorting the arrays and then comparing the two sorted arrays\n",
    "IFS=$'\\n' \n",
    "sorted_arr3=($(sort <<<\"${arr3[*]}\"))\n",
    "sorted_arr4=($(sort <<<\"${arr4[*]}\"))\n",
    "unset IFS\n",
    "\n",
    "echo \"\"\n",
    "echo \"Comparing the elements of arr3 and arr4:\"\n",
    "if [ \"${sorted_arr3[*]}\" == \"${sorted_arr4[*]}\" ]\n",
    "then\n",
    "    echo \"they have the same elements\"\n",
    "else\n",
    "    echo \"they have different elements\"\n",
    "fi\n",
    "\n",
    "# We might want to compare the size of the two arrays\n",
    "# Here we're comparing numbers, not arrays.\n",
    "# So, remember that the syntax for comparing numbers is different to that of comparing arrays \n",
    "# (see previous page)\n",
    "echo \"\"\n",
    "echo \"Comparing the size of arr3 and arr4:\"\n",
    "if [ ${#arr3[@]} -eq ${#arr4[@]} ]\n",
    "then\n",
    "    echo \"they are the same size\"\n",
    "else\n",
    "    echo \"they have different size\"\n",
    "fi\n",
    "\n",
    "echo \"\"\n",
    "echo \"Comparing the size of arr2 and arr3:\"\n",
    "if [ ${#arr2[@]} -eq ${#arr3[@]} ]\n",
    "then\n",
    "    echo \"they are the same size\"\n",
    "else\n",
    "    echo \"they have different size\"\n",
    "fi"
   ]
  },
  {
   "cell_type": "code",
   "execution_count": 21,
   "id": "a886643a",
   "metadata": {},
   "outputs": [
    {
     "name": "stdout",
     "output_type": "stream",
     "text": [
      "Comparing arr1 and arr2:\n",
      "the arrays are different\n",
      "\n",
      "Comparing arr1 and arr3:\n",
      "the arrays are equal\n",
      "\n",
      "Comparing arr3 and arr4:\n",
      "the arrays are different\n",
      "\n",
      "Comparing the elements of arr3 and arr4:\n",
      "same elements\n",
      "\n",
      "Comparing the size of arr3 and arr4:\n",
      "they are the same size\n",
      "\n",
      "Comparing the size of arr2 and arr3:\n",
      "they have different size\n"
     ]
    }
   ],
   "source": [
    "%%bash\n",
    "arr1=(a b c)\n",
    "arr2=(a b c d)\n",
    "arr3=(a b c)\n",
    "arr4=(c b a)\n",
    "\n",
    "IFS=$'\\n' \n",
    "sorted_arr3=($(sort <<<\"${arr3[*]}\"))\n",
    "sorted_arr4=($(sort <<<\"${arr4[*]}\"))\n",
    "unset IFS\n",
    "\n",
    "# The previous expressions can be written using a shorter syntax: \n",
    "# [ expression ] && what_to_do_if_expression_is_true || what_to_do_if_expression_is_false:\n",
    "echo \"Comparing arr1 and arr2:\"\n",
    "[ \"${arr1[*]}\" == \"${arr2[*]}\" ] && echo \"the arrays are equal\" || echo \"the arrays are different\"\n",
    "\n",
    "echo \"\"\n",
    "echo \"Comparing arr1 and arr3:\"\n",
    "[ \"${arr1[*]}\" == \"${arr3[*]}\" ] && echo \"the arrays are equal\" || echo \"the arrays are different\"\n",
    "\n",
    "echo \"\"\n",
    "echo \"Comparing arr3 and arr4:\"\n",
    "[ \"${arr3[*]}\" == \"${arr4[*]}\" ] && echo \"the arrays are equal\" || echo \"the arrays are different\"\n",
    "\n",
    "echo \"\"\n",
    "echo \"Comparing the elements of arr3 and arr4:\"\n",
    "[ \"${sorted_arr3[*]}\" == \"${sorted_arr4[*]}\" ] && echo \"same elements\" || echo \"different elements\"\n",
    "\n",
    "echo \"\"\n",
    "echo \"Comparing the size of arr3 and arr4:\"\n",
    "[ ${#arr3[@]} -eq ${#arr4[@]} ] && echo \"they are the same size\" || echo \"they have different size\"\n",
    "\n",
    "echo \"\"\n",
    "echo \"Comparing the size of arr2 and arr3:\"\n",
    "[ ${#arr2[@]} -eq ${#arr3[@]} ] && echo \"they are the same size\" || echo \"they have different size\""
   ]
  }
 ],
 "metadata": {
  "celltoolbar": "Tags",
  "kernelspec": {
   "display_name": "Python 3 (ipykernel)",
   "language": "python",
   "name": "python3"
  },
  "language_info": {
   "codemirror_mode": {
    "name": "ipython",
    "version": 3
   },
   "file_extension": ".py",
   "mimetype": "text/x-python",
   "name": "python",
   "nbconvert_exporter": "python",
   "pygments_lexer": "ipython3",
   "version": "3.8.3"
  }
 },
 "nbformat": 4,
 "nbformat_minor": 5
}

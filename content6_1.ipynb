{
 "cells": [
  {
   "cell_type": "code",
   "execution_count": 1,
   "id": "62974f6b",
   "metadata": {
    "tags": [
     "hide_cell"
    ]
   },
   "outputs": [
    {
     "data": {
      "text/html": [
       "<style>table {align:left;display:block} </style>"
      ],
      "text/plain": [
       "<IPython.core.display.HTML object>"
      ]
     },
     "execution_count": 1,
     "metadata": {},
     "output_type": "execute_result"
    }
   ],
   "source": [
    "from IPython.core.display import HTML\n",
    "table_css = 'table {align:left;display:block} '\n",
    "HTML('<style>{}</style>'.format(table_css))"
   ]
  },
  {
   "cell_type": "code",
   "execution_count": 2,
   "id": "51346215",
   "metadata": {
    "tags": [
     "hide_cell"
    ]
   },
   "outputs": [
    {
     "data": {
      "text/html": [
       "\n",
       "<style>\n",
       ".bashcommand {\n",
       "\tfont-family: Courier;\n",
       "\tfont-size: 12px;\n",
       "}\n",
       "</style>\n"
      ],
      "text/plain": [
       "<IPython.core.display.HTML object>"
      ]
     },
     "execution_count": 2,
     "metadata": {},
     "output_type": "execute_result"
    }
   ],
   "source": [
    "from IPython.core.display import HTML\n",
    "HTML(\"\"\"\n",
    "<style>\n",
    ".bashcommand {\n",
    "\tfont-family: Courier;\n",
    "\tfont-size: 12px;\n",
    "}\n",
    "</style>\n",
    "\"\"\")"
   ]
  },
  {
   "cell_type": "markdown",
   "id": "3601cac7",
   "metadata": {},
   "source": [
    "<a id='top'></a>\n",
    "# 6. Condition-testing\n",
    "\n",
    "Variables can be used to test if a certain condition is true or false, and therefore be able to take a different course of action depending on the result of the test. For example, you might want to evaluate if a file exists to decide if you can copy it into a different folder or not. For condition-testing, you will use the <font class=\"bashcommand\">if</font> command. This command has the following syntax:\n",
    "\n",
    "if &lbrack; CONDITION_TO_EVALUATE &rbrack;  \n",
    "then  \n",
    "    &emsp;&lt;INSTRUCTIONS THAT WILL RUN IF THE CONDITION IS TRUE&gt;  \n",
    "elif &lbrack; OTHER_CONDITION_TO_EVALUATE_IF_1ST_CONDITION_IS_FALSE &rbrack;  \n",
    "then  \n",
    "    &emsp;&lt;INSTRUCTIONS THAT WILL RUN IF FIRST CONDITION IS FALSE BUT SECOND IS TRUE&gt;  \n",
    "else  \n",
    "    &emsp;&lt;INSTRUCTIONS THAT WILL RUN IF ALL THE PREVIOUS CONDITIONS ARE FALSE&gt;  \n",
    "fi\n",
    "\n",
    "The <font class=\"bashcommand\">CONDITION_TO_EVALUATE</font> is an expression that follows a specific syntax depending on what you want to test (checking files, string comparison, comparing numbers, or combining different expressions). Lets look at the different syntaxes used in each of these situations and at some examples that will help you understand this topic.\n",
    "\n",
    "## 6.1. Condition-testing to check files\n",
    "\n",
    "In the following table, <font class=\"bashcommand\">FILE</font> refers to the path of the file or to the variable that contains the path of the file (see examples below). The spaces after the left bracket and before the right bracket are very important. If those spaces are missing, bash will give an error.\n",
    "\n",
    "<table>\n",
    "    <tr>\n",
    "        <th>Syntax</th>\n",
    "\t\t<th>Usage</th>\n",
    "    </tr>\n",
    "\t\t\t\t\t\t\n",
    "    <tr>\n",
    "        <td><font class=\"bashcommand\">[ -a FILE ]</font></td>\n",
    "        <td>Tests if <font class=\"bashcommand\">FILE</font> exists.</td>\n",
    "    </tr>\n",
    "\t\t\t\t\t\t\n",
    "    <tr>\n",
    "        <td><font class=\"bashcommand\">[ -d FILE ]</font></td>\n",
    "        <td>Tests if <font class=\"bashcommand\">FILE</font> exists and is a directory.</td>\n",
    "    </tr>\n",
    "\t\t\t\t\t\t\n",
    "    <tr>\n",
    "        <td><font class=\"bashcommand\">[ -e FILE ]</font></td>\n",
    "        <td>Tests if <font class=\"bashcommand\">FILE</font> exists.</td>\n",
    "    </tr>\n",
    "\t\t\t\t\t\t\n",
    "    <tr>\n",
    "        <td><font class=\"bashcommand\">[ -f FILE ]</font></td>\n",
    "        <td>Tests if <font class=\"bashcommand\">FILE</font> exists and is a regular file.</td>\n",
    "    </tr>\n",
    "\t\t\t\t\t\t\n",
    "    <tr>\n",
    "        <td><font class=\"bashcommand\">[ -g FILE ]</font></td>\n",
    "        <td>Tests if <font class=\"bashcommand\">FILE</font> exists and its SGID bit is set.</td>\n",
    "    </tr>\n",
    "\t\t\t\t\t\t\n",
    "    <tr>\n",
    "        <td><font class=\"bashcommand\">[ -h FILE ]</font></td>\n",
    "        <td>Tests if <font class=\"bashcommand\">FILE</font> exists and is a symbolic link.</td>\n",
    "    </tr>\n",
    "\t\t\t\t\t\t\n",
    "    <tr>\n",
    "        <td><font class=\"bashcommand\">[ -k FILE ]</font></td>\n",
    "        <td>Tests if <font class=\"bashcommand\">FILE</font> exists and its sticky bit is set.</td>\n",
    "    </tr>\n",
    "\t\t\t\t\t\t\n",
    "    <tr>\n",
    "        <td><font class=\"bashcommand\">[ -p FILE ]</font></td>\n",
    "        <td>Tests if <font class=\"bashcommand\">FILE</font> exists and is a named pipe (FIFO).</td>\n",
    "    </tr>\n",
    "\t\t\t\t\t\t\n",
    "    <tr>\n",
    "        <td><font class=\"bashcommand\">[ -r FILE ]</font></td>\n",
    "        <td>Tests if <font class=\"bashcommand\">FILE</font> exists and is readable.</td>\n",
    "    </tr>\n",
    "\t\t\t\t\t\t\n",
    "    <tr>\n",
    "        <td><font class=\"bashcommand\">[ -s FILE ]</font></td>\n",
    "        <td>Tests if <font class=\"bashcommand\">FILE</font> exists and has a size greater than zero.</td>\n",
    "    </tr>\n",
    "\t\t\t\t\t\t\n",
    "    <tr>\n",
    "        <td><font class=\"bashcommand\">[ -t FD ]</font></td>\n",
    "        <td>Tests if file descriptor <font class=\"bashcommand\">FD</font> is open and refers to a terminal.</td>\n",
    "    </tr>\n",
    "\t\t\t\t\t\t\n",
    "    <tr>\n",
    "        <td><font class=\"bashcommand\">[ -u FILE ]</font></td>\n",
    "        <td>Tests if <font class=\"bashcommand\">FILE</font> exists and its SUID (set user ID) bit is set.</td>\n",
    "    </tr>\n",
    "\t\t\t\t\t\t\n",
    "    <tr>\n",
    "        <td><font class=\"bashcommand\">[ -w FILE ]</font></td>\n",
    "        <td>Tests if <font class=\"bashcommand\">FILE</font> exists and is writable.</td>\n",
    "    </tr>\n",
    "\t\t\t\t\t\t\n",
    "    <tr>\n",
    "        <td><font class=\"bashcommand\">[ -x FILE ]</font></td>\n",
    "        <td>Tests if <font class=\"bashcommand\">FILE</font> exists and is executable.</td>\n",
    "    </tr>\n",
    "\t\t\t\t\t\t\n",
    "    <tr>\n",
    "        <td><font class=\"bashcommand\">[ -O FILE ]</font></td>\n",
    "        <td>Tests if <font class=\"bashcommand\">FILE</font> exists and is owned by the effective user ID.</td>\n",
    "    </tr>\n",
    "\t\t\t\t\t\t\n",
    "    <tr>\n",
    "        <td><font class=\"bashcommand\">[ -G FILE ]</font></td>\n",
    "        <td>Tests if <font class=\"bashcommand\">FILE</font> exists and is owned by the effective group ID.</td>\n",
    "    </tr>\n",
    "\t\t\t\t\t\t\n",
    "    <tr>\n",
    "        <td><font class=\"bashcommand\">[ -L FILE ]</font></td>\n",
    "        <td>Tests if <font class=\"bashcommand\">FILE</font> exists and is a symbolic link.</td>\n",
    "    </tr>\n",
    "\t\t\t\t\t\t\n",
    "    <tr>\n",
    "        <td><font class=\"bashcommand\">[ -N FILE ]</font></td>\n",
    "        <td>Tests if <font class=\"bashcommand\">FILE</font> exists and has been modified since it was last read.</td>\n",
    "    </tr>\n",
    "\t\t\t\t\t\t\n",
    "    <tr>\n",
    "        <td><font class=\"bashcommand\">[ -S FILE ]</font></td>\n",
    "        <td>Tests if <font class=\"bashcommand\">FILE</font> exists and is a socket.</td>\n",
    "    </tr>\n",
    "\t\t\t\t\t\t\n",
    "    <tr>\n",
    "        <td><font class=\"bashcommand\">[ FILE1 -nt FILE2 ]</font></td>\n",
    "        <td>Tests if <font class=\"bashcommand\">FILE1</font> has been changed more recently than <font class=\"bashcommand\">FILE2</font>, or if <font class=\"bashcommand\">FILE1</font> exists and <font class=\"bashcommand\">FILE2</font> does not.</td>\n",
    "    </tr>\n",
    "\t\t\t\t\t\t\n",
    "    <tr>\n",
    "        <td><font class=\"bashcommand\">[ FILE1 -ot FILE2 ]</font></td>\n",
    "        <td>Tests if <font class=\"bashcommand\">FILE1</font> is older than <font class=\"bashcommand\">FILE2</font>, or is <font class=\"bashcommand\">FILE2</font> exists and <font class=\"bashcommand\">FILE1</font> does not.</td>\n",
    "    </tr>\n",
    "\t\t\t\t\t\t\n",
    "    <tr>\n",
    "        <td><font class=\"bashcommand\">[ FILE1 -ef FILE2 ]</font></td>\n",
    "        <td>Tests if <font class=\"bashcommand\">FILE1</font> and <font class=\"bashcommand\">FILE2</font> refer to the same device and inode numbers.</td>\n",
    "    </tr>\n",
    "</table>\n",
    "[Go to top](#top)"
   ]
  },
  {
   "cell_type": "markdown",
   "id": "8636e98e",
   "metadata": {},
   "source": [
    "#### Examples: [ -a FILE ]\n",
    "[Go to top](#top)"
   ]
  },
  {
   "cell_type": "markdown",
   "id": "129e2805",
   "metadata": {},
   "source": [
    "#### Examples: [ -d FILE ]\n",
    "[Go to top](#top)"
   ]
  },
  {
   "cell_type": "markdown",
   "id": "59565da4",
   "metadata": {},
   "source": [
    "#### Examples: [ -e FILE ]\n",
    "[Go to top](#top)"
   ]
  },
  {
   "cell_type": "markdown",
   "id": "57ea6f5d",
   "metadata": {},
   "source": [
    "#### Examples: [ -f FILE ]\n",
    "[Go to top](#top)"
   ]
  },
  {
   "cell_type": "markdown",
   "id": "da8e2291",
   "metadata": {},
   "source": [
    "#### Examples: [ -g FILE ]\n",
    "[Go to top](#top)"
   ]
  },
  {
   "cell_type": "markdown",
   "id": "d47212a5",
   "metadata": {},
   "source": [
    "#### Examples: [ -h FILE ]\n",
    "[Go to top](#top)"
   ]
  },
  {
   "cell_type": "markdown",
   "id": "978f1301",
   "metadata": {},
   "source": [
    "#### Examples: [ -k FILE ]\n",
    "[Go to top](#top)"
   ]
  },
  {
   "cell_type": "markdown",
   "id": "f78309fb",
   "metadata": {},
   "source": [
    "#### Examples: [ -p FILE ]\n",
    "[Go to top](#top)"
   ]
  },
  {
   "cell_type": "markdown",
   "id": "8a3af642",
   "metadata": {},
   "source": [
    "#### Examples: [ -r FILE ]\n",
    "[Go to top](#top)"
   ]
  },
  {
   "cell_type": "markdown",
   "id": "b78be65d",
   "metadata": {},
   "source": [
    "#### Examples: [ -s FILE ]\n",
    "[Go to top](#top)"
   ]
  },
  {
   "cell_type": "markdown",
   "id": "60701e22",
   "metadata": {},
   "source": [
    "#### Examples: [ -t FD ]\n",
    "[Go to top](#top)"
   ]
  },
  {
   "cell_type": "markdown",
   "id": "797ff5f6",
   "metadata": {},
   "source": [
    "#### Examples: [ -u FILE ]\n",
    "[Go to top](#top)"
   ]
  },
  {
   "cell_type": "markdown",
   "id": "6b51e691",
   "metadata": {},
   "source": [
    "#### Examples: [ -w FILE ]\n",
    "[Go to top](#top)"
   ]
  },
  {
   "cell_type": "markdown",
   "id": "27ae8d3e",
   "metadata": {},
   "source": [
    "#### Examples: [ -x FILE ]\n",
    "[Go to top](#top)"
   ]
  },
  {
   "cell_type": "markdown",
   "id": "e5968e85",
   "metadata": {},
   "source": [
    "#### Examples: [ -O FILE ]\n",
    "[Go to top](#top)"
   ]
  },
  {
   "cell_type": "markdown",
   "id": "1e841de7",
   "metadata": {},
   "source": [
    "#### Examples: [ -G FILE ]\n",
    "[Go to top](#top)"
   ]
  },
  {
   "cell_type": "markdown",
   "id": "82077ddb",
   "metadata": {},
   "source": [
    "#### Examples: [ -L FILE ]\n",
    "[Go to top](#top)"
   ]
  },
  {
   "cell_type": "markdown",
   "id": "b5a2f7f2",
   "metadata": {},
   "source": [
    "#### Examples: [ -N FILE ]\n",
    "[Go to top](#top)"
   ]
  },
  {
   "cell_type": "markdown",
   "id": "3836760c",
   "metadata": {},
   "source": [
    "#### Examples: [ -S FILE ]\n",
    "[Go to top](#top)"
   ]
  },
  {
   "cell_type": "markdown",
   "id": "6fd44a17",
   "metadata": {},
   "source": [
    "#### Examples: [ FILE1 -nt FILE2 ]\n",
    "[Go to top](#top)"
   ]
  },
  {
   "cell_type": "markdown",
   "id": "6b611864",
   "metadata": {},
   "source": [
    "#### Examples: [ FILE1 -ot FILE2 ]\n",
    "[Go to top](#top)"
   ]
  },
  {
   "cell_type": "markdown",
   "id": "e4e93733",
   "metadata": {},
   "source": [
    "#### Examples: [ FILE1 -ef FILE2 ]\n",
    "[Go to top](#top)"
   ]
  }
 ],
 "metadata": {
  "celltoolbar": "Tags",
  "kernelspec": {
   "display_name": "Python 3 (ipykernel)",
   "language": "python",
   "name": "python3"
  },
  "language_info": {
   "codemirror_mode": {
    "name": "ipython",
    "version": 3
   },
   "file_extension": ".py",
   "mimetype": "text/x-python",
   "name": "python",
   "nbconvert_exporter": "python",
   "pygments_lexer": "ipython3",
   "version": "3.8.3"
  }
 },
 "nbformat": 4,
 "nbformat_minor": 5
}

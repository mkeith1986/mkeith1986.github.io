{
 "cells": [
  {
   "cell_type": "code",
   "execution_count": 1,
   "id": "f061f58b",
   "metadata": {
    "tags": [
     "hide_cell"
    ]
   },
   "outputs": [
    {
     "data": {
      "text/html": [
       "<style>table {align:left;display:block} </style>"
      ],
      "text/plain": [
       "<IPython.core.display.HTML object>"
      ]
     },
     "execution_count": 1,
     "metadata": {},
     "output_type": "execute_result"
    }
   ],
   "source": [
    "from IPython.core.display import HTML\n",
    "table_css = 'table {align:left;display:block} '\n",
    "HTML('<style>{}</style>'.format(table_css))"
   ]
  },
  {
   "cell_type": "code",
   "execution_count": 2,
   "id": "9f7f8b76",
   "metadata": {
    "tags": [
     "hide_cell"
    ]
   },
   "outputs": [
    {
     "data": {
      "text/html": [
       "\n",
       "<style>\n",
       ".bashcommand {\n",
       "\tfont-family: Courier;\n",
       "\tfont-size: 12px;\n",
       "}\n",
       "</style>\n"
      ],
      "text/plain": [
       "<IPython.core.display.HTML object>"
      ]
     },
     "execution_count": 2,
     "metadata": {},
     "output_type": "execute_result"
    }
   ],
   "source": [
    "from IPython.core.display import HTML\n",
    "HTML(\"\"\"\n",
    "<style>\n",
    ".bashcommand {\n",
    "\tfont-family: Courier;\n",
    "\tfont-size: 12px;\n",
    "}\n",
    "</style>\n",
    "\"\"\")"
   ]
  },
  {
   "cell_type": "markdown",
   "id": "15807c26",
   "metadata": {},
   "source": [
    "<a id='top'></a>\n",
    "# 6. Condition-testing\n",
    "\n",
    "Variables can be used to test if a certain condition is true or false, and therefore be able to take a different course of action depending on the result of the test. For example, you might want to evaluate if a file exists to decide if you can copy it into a different folder or not. For condition-testing, you will use the <font class=\"bashcommand\">if</font> command. This command has the following syntax:\n",
    "\n",
    "if &lbrack; CONDITION_TO_EVALUATE &rbrack;  \n",
    "then  \n",
    "    &emsp;&lt;INSTRUCTIONS THAT WILL RUN IF THE CONDITION IS TRUE&gt;  \n",
    "elif &lbrack; OTHER_CONDITION_TO_EVALUATE_IF_1ST_CONDITION_IS_FALSE &rbrack;  \n",
    "then  \n",
    "    &emsp;&lt;INSTRUCTIONS THAT WILL RUN IF FIRST CONDITION IS FALSE BUT SECOND IS TRUE&gt;  \n",
    "else  \n",
    "    &emsp;&lt;INSTRUCTIONS THAT WILL RUN IF ALL THE PREVIOUS CONDITIONS ARE FALSE&gt;  \n",
    "fi\n",
    "\n",
    "The <font class=\"bashcommand\">CONDITION_TO_EVALUATE</font> is an expression that follows a specific syntax depending on what you want to test (checking files, string comparison, comparing numbers, or combining different expressions). Lets look at the different syntaxes used in each of these situations and at some examples that will help you understand this topic.\n",
    "\n",
    "## 6.5. Combining different expressions for condition-testing\n",
    "\n",
    "The spaces after the left bracket and before the right bracket are very important. If those spaces are missing, bash will give an error.\n",
    "\n",
    "<table>\n",
    "    <tr>\n",
    "        <th>Syntax</th>\n",
    "\t\t<th>Usage</th>\n",
    "    </tr>\n",
    "\t\t\t\t\t\t\n",
    "    <tr>\n",
    "        <td><font class=\"bashcommand\"> </font></td>\n",
    "        <td></td>\n",
    "    </tr>\n",
    "\t\t\t\t\t\t\n",
    "    <tr>\n",
    "        <td><font class=\"bashcommand\"> </font></td>\n",
    "        <td></td>\n",
    "    </tr>\n",
    "\t\t\t\t\t\t\n",
    "    <tr>\n",
    "        <td><font class=\"bashcommand\"> </font></td>\n",
    "        <td></td>\n",
    "    </tr>\n",
    "\t\t\t\t\t\t\n",
    "    <tr>\n",
    "        <td><font class=\"bashcommand\"> </font></td>\n",
    "        <td></td>\n",
    "    </tr>\n",
    "</table>\n",
    "[Go to top](#top)"
   ]
  },
  {
   "cell_type": "markdown",
   "id": "fa831276",
   "metadata": {},
   "source": [
    "#### Examples: \n",
    "[Go to top](#top)"
   ]
  },
  {
   "cell_type": "markdown",
   "id": "64588567",
   "metadata": {},
   "source": [
    "#### Examples: \n",
    "[Go to top](#top)"
   ]
  },
  {
   "cell_type": "markdown",
   "id": "05de38ef",
   "metadata": {},
   "source": [
    "#### Examples: \n",
    "[Go to top](#top)"
   ]
  },
  {
   "cell_type": "markdown",
   "id": "717dbb63",
   "metadata": {},
   "source": [
    "#### Examples: \n",
    "[Go to top](#top)"
   ]
  }
 ],
 "metadata": {
  "celltoolbar": "Tags",
  "kernelspec": {
   "display_name": "Python 3 (ipykernel)",
   "language": "python",
   "name": "python3"
  },
  "language_info": {
   "codemirror_mode": {
    "name": "ipython",
    "version": 3
   },
   "file_extension": ".py",
   "mimetype": "text/x-python",
   "name": "python",
   "nbconvert_exporter": "python",
   "pygments_lexer": "ipython3",
   "version": "3.8.3"
  }
 },
 "nbformat": 4,
 "nbformat_minor": 5
}
